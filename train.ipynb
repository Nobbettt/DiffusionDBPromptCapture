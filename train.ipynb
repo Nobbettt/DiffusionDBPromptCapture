{
 "cells": [
  {
   "attachments": {},
   "cell_type": "markdown",
   "metadata": {},
   "source": [
    "# DiffusionDB prompt capture training"
   ]
  },
  {
   "attachments": {},
   "cell_type": "markdown",
   "metadata": {},
   "source": [
    "## Imports"
   ]
  },
  {
   "cell_type": "code",
   "execution_count": 1,
   "metadata": {},
   "outputs": [],
   "source": [
    "from datasets import load_dataset\n",
    "import torchvision.transforms as transforms\n",
    "import torch\n",
    "from torch import nn\n",
    "from torch.nn.utils.rnn import pack_padded_sequence\n",
    "import json\n",
    "import matplotlib.pyplot as plt\n",
    "import time\n",
    "from nltk.translate.bleu_score import corpus_bleu"
   ]
  },
  {
   "cell_type": "code",
   "execution_count": null,
   "metadata": {},
   "outputs": [],
   "source": [
    "from DecoderWithAttention import DecoderWithAttention\n",
    "from Encoder import Encoder\n",
    "from DiffusionDBDataLoader import DiffusionDBDataLoader\n",
    "from Memory import Memory\n",
    "from checkpoint_utils import save_checkpoint, load_checkpoint"
   ]
  },
  {
   "attachments": {},
   "cell_type": "markdown",
   "metadata": {},
   "source": [
    "## System / training parameters"
   ]
  },
  {
   "cell_type": "code",
   "execution_count": null,
   "metadata": {},
   "outputs": [],
   "source": [
    "class Parameters:\n",
    "    start_epoch = 0\n",
    "    epochs = 50 \n",
    "    epochs_since_improvement = 0 \n",
    "    batch_size = 32\n",
    "    \n",
    "    device = \"cpu\"\n",
    "    max_img_width = 720\n",
    "    max_img_height = 720\n",
    "\n",
    "    encoded_image_size=14\n",
    "    emb_dim = 512 \n",
    "    attention_dim = 512 \n",
    "    decoder_dim = 512 \n",
    "    dropoutFraction = 0.5\n",
    "\n",
    "    encoder_lr = 1e-4\n",
    "    decoder_lr = 4e-4 \n",
    "    \n",
    "    is_encoder_pretrained = True\n",
    "    fine_tune_encoder = False \n",
    "\n",
    "    grad_clip = 5.  \n",
    "    alpha_c = 1. \n",
    "\n",
    "    print_freq = 2  \n",
    "\n",
    "    top_5 = 0. \n",
    "    \n",
    "    max_prompt_len = 15\n",
    "    \n",
    "    remove_unk = True"
   ]
  },
  {
   "cell_type": "code",
   "execution_count": null,
   "metadata": {},
   "outputs": [],
   "source": [
    "# Set device to GPU (cuda) if available\n",
    "Parameters.device = torch.device(\"cuda\" if torch.cuda.is_available() else \"cpu\")"
   ]
  },
  {
   "attachments": {},
   "cell_type": "markdown",
   "metadata": {},
   "source": [
    "## Import data"
   ]
  },
  {
   "attachments": {},
   "cell_type": "markdown",
   "metadata": {},
   "source": [
    "### Import word-map"
   ]
  },
  {
   "cell_type": "code",
   "execution_count": null,
   "metadata": {},
   "outputs": [],
   "source": [
    "with open(\"word_map_nostop5.json\", \"r\") as j:\n",
    "    word_map_dict = json.load(j)"
   ]
  },
  {
   "attachments": {},
   "cell_type": "markdown",
   "metadata": {},
   "source": [
    "### Import images and prompts"
   ]
  },
  {
   "cell_type": "code",
   "execution_count": null,
   "metadata": {},
   "outputs": [
    {
     "name": "stderr",
     "output_type": "stream",
     "text": [
      "Found cached dataset diffusiondb (C:/Users/46763/.cache/huggingface/datasets/poloclub___diffusiondb/2m_random_1k/0.9.1/547894e3a57aa647ead68c9faf148324098f47f2bc1ab6705d670721de9d89d1)\n",
      "100%|██████████| 1/1 [00:00<00:00, 16.39it/s]\n"
     ]
    }
   ],
   "source": [
    "dataset = load_dataset('poloclub/diffusiondb', '2m_random_1k')[\"train\"]\n",
    "images_dataset = dataset[\"image\"]\n",
    "prompts_dataset = dataset[\"prompt\"]"
   ]
  },
  {
   "attachments": {},
   "cell_type": "markdown",
   "metadata": {},
   "source": [
    "### Train- and validation-set split "
   ]
  },
  {
   "cell_type": "code",
   "execution_count": null,
   "metadata": {},
   "outputs": [],
   "source": [
    "train_images_dataset = images_dataset[:512]\n",
    "train_prompts_dataset = prompts_dataset[:512]\n",
    "\n",
    "validation_images_dataset = images_dataset[512:640]\n",
    "validation_prompts_dataset = prompts_dataset[512:640]"
   ]
  },
  {
   "attachments": {},
   "cell_type": "markdown",
   "metadata": {},
   "source": [
    "## Train system"
   ]
  },
  {
   "cell_type": "code",
   "execution_count": null,
   "metadata": {},
   "outputs": [],
   "source": [
    "def accuracy(scores, targets, k):\n",
    "    batch_size = targets.size(0)\n",
    "    _, ind = scores.topk(k, 1, True, True)\n",
    "    correct = ind.eq(targets.view(-1, 1).expand_as(ind))\n",
    "    correct_total = correct.view(-1).float().sum()  \n",
    "    return correct_total.item() * (100.0 / batch_size)"
   ]
  },
  {
   "attachments": {},
   "cell_type": "markdown",
   "metadata": {},
   "source": [
    "### Training loop function"
   ]
  },
  {
   "cell_type": "code",
   "execution_count": null,
   "metadata": {},
   "outputs": [],
   "source": [
    "def clip_gradient(optimizer, grad_clip):\n",
    "    for group in optimizer.param_groups:\n",
    "        for param in group['params']:\n",
    "            if param.grad is not None:\n",
    "                param.grad.data.clamp_(-grad_clip, grad_clip)\n",
    "                \n",
    "def train(train_loader, encoder, decoder, criterion, encoder_optimizer, decoder_optimizer, epoch):\n",
    "    decoder.train() \n",
    "    encoder.train()\n",
    "\n",
    "    batch_time = Memory()\n",
    "    losses = Memory()\n",
    "    top5accs = Memory()\n",
    "\n",
    "    start = time.time()\n",
    "    k = 0\n",
    "\n",
    "    for i, (imgs, caps, caplens) in enumerate(train_loader):\n",
    "\n",
    "        imgs = imgs.to(Parameters.device)\n",
    "        caps = caps.to(Parameters.device)\n",
    "        caplens = caplens.to(Parameters.device)\n",
    "        \n",
    "        imgs = encoder(imgs)\n",
    "        scores, prompts_sorted, decode_lengths, alphas = decoder(imgs, caps, caplens)\n",
    "\n",
    "        targets = prompts_sorted[:, 1:]\n",
    "\n",
    "        scores = pack_padded_sequence(scores, decode_lengths, batch_first=True, enforce_sorted=False).data\n",
    "        targets = pack_padded_sequence(targets, decode_lengths, batch_first=True, enforce_sorted=False).data\n",
    "\n",
    "        loss = criterion(scores, targets)\n",
    "        loss += Parameters.alpha_c * ((1. - alphas.sum(dim=1)) ** 2).mean()\n",
    "\n",
    "        decoder_optimizer.zero_grad()\n",
    "        if encoder_optimizer is not None:\n",
    "            encoder_optimizer.zero_grad()\n",
    "        loss.backward()\n",
    "\n",
    "        if Parameters.grad_clip is not None:\n",
    "            clip_gradient(decoder_optimizer, Parameters.grad_clip)\n",
    "            if encoder_optimizer is not None:\n",
    "                clip_gradient(encoder_optimizer, Parameters.grad_clip)\n",
    "\n",
    "        decoder_optimizer.step()\n",
    "        if encoder_optimizer is not None:\n",
    "            encoder_optimizer.step()\n",
    "\n",
    "        top5 = accuracy(scores, targets, 5)\n",
    "        losses.update(loss.item(), sum(decode_lengths))\n",
    "        top5accs.update(top5, sum(decode_lengths))\n",
    "        batch_time.update(time.time() - start)\n",
    "\n",
    "        start = time.time()\n",
    "\n",
    "        if i % Parameters.print_freq == 0:\n",
    "            print('Epoch: [{0}][{1}/{2}]\\t'\n",
    "                  'Batch Time {batch_time.val:.3f} ({batch_time.avg:.3f})\\t'\n",
    "                  'Loss {loss.val:.4f} ({loss.avg:.4f})\\t'\n",
    "                  'Top-5 Accuracy {top5.val:.3f} ({top5.avg:.3f})'\n",
    "                  .format(epoch, i, len(train_loader), batch_time=batch_time, loss=losses, top5=top5accs))\n",
    "        \n",
    "    return top5accs.avg"
   ]
  },
  {
   "attachments": {},
   "cell_type": "markdown",
   "metadata": {},
   "source": [
    "### Validation loop function"
   ]
  },
  {
   "cell_type": "code",
   "execution_count": null,
   "metadata": {},
   "outputs": [],
   "source": [
    "def validate(val_loader, encoder, decoder, criterion):\n",
    "    decoder.eval() \n",
    "    if encoder is not None:\n",
    "        encoder.eval()\n",
    "\n",
    "    losses = Memory()\n",
    "    top5accs = Memory()\n",
    "\n",
    "    start = time.time()\n",
    "\n",
    "    with torch.no_grad():\n",
    "        for i, (imgs, caps, caplens) in enumerate(val_loader):\n",
    "            imgs = imgs.to(Parameters.device)\n",
    "            caps = caps.to(Parameters.device)\n",
    "            caplens = caplens.to(Parameters.device)\n",
    "            \n",
    "            if encoder is not None:\n",
    "                imgs = encoder(imgs)\n",
    "            scores, prompts_sorted, decode_lengths, alphas = decoder(imgs, caps, caplens)\n",
    "            \n",
    "            targets = prompts_sorted[:, 1:]\n",
    "\n",
    "            scores_copy = scores.clone()\n",
    "            \n",
    "            scores = pack_padded_sequence(scores, decode_lengths, batch_first=True, enforce_sorted=False).data\n",
    "            targets = pack_padded_sequence(targets, decode_lengths, batch_first=True, enforce_sorted=False).data\n",
    "\n",
    "            loss = criterion(scores, targets)\n",
    "            loss += Parameters.alpha_c * ((1. - alphas.sum(dim=1)) ** 2).mean()\n",
    "\n",
    "            losses.update(loss.item(), sum(decode_lengths))\n",
    "            top5 = accuracy(scores, targets, 5)\n",
    "            top5accs.update(top5, sum(decode_lengths))\n",
    "\n",
    "            start = time.time()\n",
    "\n",
    "            if i % Parameters.print_freq == 0:\n",
    "                print('Validation: [{0}/{1}]\\t'\n",
    "                      'Loss {loss.val:.4f} ({loss.avg:.4f})\\t'\n",
    "                      'Top-5 Accuracy {top5.val:.3f} ({top5.avg:.3f})\\t'.format(i, len(val_loader), loss=losses, top5=top5accs))\n",
    "\n",
    "        print('\\n * LOSS - {loss.avg:.3f}, TOP-5 ACCURACY - {top5.avg:.3f}'.format(loss=losses, top5=top5accs))\n",
    "\n",
    "    return top5accs.avg\n"
   ]
  },
  {
   "attachments": {},
   "cell_type": "markdown",
   "metadata": {},
   "source": [
    "### Define dataloaders, loss functions, and optimizers"
   ]
  },
  {
   "cell_type": "code",
   "execution_count": null,
   "metadata": {},
   "outputs": [
    {
     "name": "stdout",
     "output_type": "stream",
     "text": [
      "Assertions and dimensions\n",
      "Loading prompts\n",
      "Setting up transformer\n",
      "Creating batches\n",
      "Assertions and dimensions\n",
      "Loading prompts\n",
      "Setting up transformer\n",
      "Creating batches\n"
     ]
    }
   ],
   "source": [
    "decoder = DecoderWithAttention(attention_dimension=Parameters.attention_dim,\n",
    "                                embedding_dimension=Parameters.emb_dim,\n",
    "                                decoder_dimension=Parameters.decoder_dim,\n",
    "                                vocab_size=len(word_map_dict),\n",
    "                                dropoutFraction=Parameters.dropoutFraction,\n",
    "                                device=Parameters.device)\n",
    "                                \n",
    "decoder_optimizer = torch.optim.Adam(params=filter(lambda p: p.requires_grad, decoder.parameters()), lr=Parameters.decoder_lr)\n",
    "encoder = Encoder(Parameters.encoded_image_size, Parameters.is_encoder_pretrained)\n",
    "encoder.fine_tune(Parameters.fine_tune_encoder)\n",
    "encoder_optimizer = torch.optim.Adam(params=filter(lambda p: p.requires_grad, encoder.parameters()), lr=Parameters.encoder_lr) if Parameters.fine_tune_encoder else None\n",
    "\n",
    "decoder = decoder.to(Parameters.device)\n",
    "encoder = encoder.to(Parameters.device)\n",
    "\n",
    "criterion = nn.CrossEntropyLoss().to(Parameters.device)\n",
    "\n",
    "normalize = transforms.Normalize(mean=[0.485, 0.456, 0.406],\n",
    "                                    std=[0.229, 0.224, 0.225])\n",
    "                                    \n",
    "train_loader = DiffusionDBDataLoader(train_images_dataset, \n",
    "                                    train_prompts_dataset, \n",
    "                                    (Parameters.max_img_width, Parameters.max_img_height),\n",
    "                                    word_map_dict, \n",
    "                                    Parameters.batch_size,\n",
    "                                    transform=normalize,\n",
    "                                    max_length=Parameters.max_prompt_len,\n",
    "                                    remove_unk=True)\n",
    "\n",
    "val_loader = DiffusionDBDataLoader(validation_images_dataset, \n",
    "                                    validation_prompts_dataset, \n",
    "                                    (Parameters.max_img_width, Parameters.max_img_height),\n",
    "                                    word_map_dict, \n",
    "                                    Parameters.batch_size,\n",
    "                                    transform=normalize,\n",
    "                                    max_length=Parameters.max_prompt_len,\n",
    "                                    remove_unk=True)"
   ]
  },
  {
   "attachments": {},
   "cell_type": "markdown",
   "metadata": {},
   "source": [
    "### Load checkpoint if exists"
   ]
  },
  {
   "cell_type": "code",
   "execution_count": null,
   "metadata": {},
   "outputs": [],
   "source": [
    "# Epochs\n",
    "#encoder, decoder, encoder_optimizer, decoder_optimizer, epoch, epoch_since_improvment, history = load_checkpoint(\"resnet50\", encoder, decoder, encoder_optimizer, decoder_optimizer, best=True)\n",
    "\n",
    "#print(\"Prev epoch:\", epoch)\n",
    "#Parameters.start_epoch = 0\n",
    "#Parameters.epochs_since_improvement = epoch_since_improvment\n",
    "#load_history = history\n",
    "\n",
    "load_history = []"
   ]
  },
  {
   "attachments": {},
   "cell_type": "markdown",
   "metadata": {},
   "source": [
    "### Main function"
   ]
  },
  {
   "cell_type": "code",
   "execution_count": null,
   "metadata": {},
   "outputs": [
    {
     "name": "stdout",
     "output_type": "stream",
     "text": [
      "epoch nr 0\n",
      "Epoch: [0][0/512]\tBatch Time 157.952 (157.952)\tData Load Time 0.678 (0.678)\tLoss 10.4627 (10.4627)\tTop-5 Accuracy 0.000 (0.000)\n",
      "Epoch: [0][2/512]\tBatch Time 78.426 (107.351)\tData Load Time 0.964 (1.251)\tLoss 10.1382 (10.2814)\tTop-5 Accuracy 8.178 (4.797)\n",
      "Epoch: [0][4/512]\tBatch Time 76.024 (95.233)\tData Load Time 0.579 (1.015)\tLoss 10.1309 (10.1807)\tTop-5 Accuracy 6.422 (6.065)\n",
      "Epoch: [0][6/512]\tBatch Time 77.271 (89.969)\tData Load Time 1.015 (1.012)\tLoss 10.0247 (10.1474)\tTop-5 Accuracy 6.849 (6.250)\n",
      "Epoch: [0][8/512]\tBatch Time 76.366 (87.077)\tData Load Time 0.892 (0.978)\tLoss 10.0454 (10.1089)\tTop-5 Accuracy 6.645 (6.463)\n",
      "Epoch: [0][10/512]\tBatch Time 76.639 (85.104)\tData Load Time 0.977 (0.966)\tLoss 9.9524 (10.0697)\tTop-5 Accuracy 8.475 (6.926)\n",
      "Epoch: [0][12/512]\tBatch Time 74.427 (83.515)\tData Load Time 1.326 (1.017)\tLoss 9.8122 (10.0343)\tTop-5 Accuracy 8.989 (7.137)\n",
      "Epoch: [0][14/512]\tBatch Time 75.096 (82.450)\tData Load Time 1.139 (1.059)\tLoss 9.7308 (9.9892)\tTop-5 Accuracy 8.276 (7.352)\n",
      "Validation: [0/128]\tBatch Time 67.785 (67.785)\tLoss 9.6188 (9.6188)\tTop-5 Accuracy 8.425 (8.425)\t\n",
      "Validation: [2/128]\tBatch Time 68.848 (68.122)\tLoss 9.3388 (9.4588)\tTop-5 Accuracy 9.470 (9.091)\t\n",
      "\n",
      " * LOSS - 9.463, TOP-5 ACCURACY - 8.736\n",
      "Epoch: 0 Top5-Validation 8.736217133163699\n",
      "epoch nr 1\n",
      "Epoch: [1][0/512]\tBatch Time 74.366 (74.366)\tData Load Time 0.075 (0.075)\tLoss 9.2885 (9.2885)\tTop-5 Accuracy 13.115 (13.115)\n",
      "Epoch: [1][2/512]\tBatch Time 74.884 (74.948)\tData Load Time 0.076 (0.082)\tLoss 8.9100 (9.1246)\tTop-5 Accuracy 12.268 (10.947)\n",
      "Epoch: [1][4/512]\tBatch Time 74.100 (74.588)\tData Load Time 0.078 (0.081)\tLoss 9.1698 (9.0637)\tTop-5 Accuracy 7.645 (10.544)\n",
      "Epoch: [1][6/512]\tBatch Time 75.205 (74.764)\tData Load Time 0.076 (0.080)\tLoss 8.7998 (9.0143)\tTop-5 Accuracy 10.137 (10.168)\n",
      "Epoch: [1][8/512]\tBatch Time 74.529 (74.772)\tData Load Time 0.117 (0.085)\tLoss 9.2382 (8.9967)\tTop-5 Accuracy 8.638 (10.385)\n",
      "Epoch: [1][10/512]\tBatch Time 75.356 (74.886)\tData Load Time 0.108 (0.087)\tLoss 9.1336 (8.9859)\tTop-5 Accuracy 9.746 (10.420)\n",
      "Epoch: [1][12/512]\tBatch Time 74.880 (74.957)\tData Load Time 0.095 (0.087)\tLoss 8.8700 (8.9729)\tTop-5 Accuracy 10.112 (10.391)\n",
      "Epoch: [1][14/512]\tBatch Time 74.034 (74.879)\tData Load Time 0.079 (0.088)\tLoss 8.7668 (8.9474)\tTop-5 Accuracy 12.414 (10.419)\n",
      "Validation: [0/128]\tBatch Time 68.170 (68.170)\tLoss 9.1233 (9.1233)\tTop-5 Accuracy 8.791 (8.791)\t\n",
      "Validation: [2/128]\tBatch Time 66.413 (67.169)\tLoss 8.8881 (8.9302)\tTop-5 Accuracy 12.121 (10.744)\t\n",
      "\n",
      " * LOSS - 8.923, TOP-5 ACCURACY - 10.772\n",
      "Epoch: 1 Top5-Validation 10.771840542832908\n",
      "epoch nr 2\n",
      "Epoch: [2][0/512]\tBatch Time 72.528 (72.528)\tData Load Time 0.048 (0.048)\tLoss 8.7220 (8.7220)\tTop-5 Accuracy 10.246 (10.246)\n",
      "Epoch: [2][2/512]\tBatch Time 72.900 (73.167)\tData Load Time 0.103 (0.078)\tLoss 8.0863 (8.3219)\tTop-5 Accuracy 9.665 (9.963)\n",
      "Epoch: [2][4/512]\tBatch Time 74.455 (73.499)\tData Load Time 0.079 (0.081)\tLoss 8.4474 (8.2854)\tTop-5 Accuracy 8.869 (10.131)\n",
      "Epoch: [2][6/512]\tBatch Time 75.792 (73.898)\tData Load Time 0.099 (0.085)\tLoss 8.1256 (8.2812)\tTop-5 Accuracy 9.041 (9.701)\n",
      "Epoch: [2][8/512]\tBatch Time 74.377 (74.066)\tData Load Time 0.078 (0.084)\tLoss 8.7212 (8.2974)\tTop-5 Accuracy 8.306 (9.659)\n",
      "Epoch: [2][10/512]\tBatch Time 74.048 (74.002)\tData Load Time 0.076 (0.083)\tLoss 8.5723 (8.3080)\tTop-5 Accuracy 10.593 (9.776)\n",
      "Epoch: [2][12/512]\tBatch Time 75.393 (74.148)\tData Load Time 0.093 (0.084)\tLoss 8.3528 (8.3206)\tTop-5 Accuracy 10.487 (9.840)\n",
      "Epoch: [2][14/512]\tBatch Time 74.644 (74.318)\tData Load Time 0.073 (0.083)\tLoss 8.2918 (8.3201)\tTop-5 Accuracy 10.345 (9.856)\n",
      "\n",
      "Epochs since last improvement: 1\n",
      "\n",
      "Validation: [0/128]\tBatch Time 68.060 (68.060)\tLoss 8.9696 (8.9696)\tTop-5 Accuracy 8.425 (8.425)\t\n",
      "Validation: [2/128]\tBatch Time 67.770 (68.000)\tLoss 8.8741 (8.8330)\tTop-5 Accuracy 12.121 (10.508)\t\n",
      "\n",
      " * LOSS - 8.832, TOP-5 ACCURACY - 10.772\n",
      "Epoch: 2 Top5-Validation 10.771840542832908\n",
      "epoch nr 3\n",
      "Epoch: [3][0/512]\tBatch Time 73.641 (73.641)\tData Load Time 0.058 (0.058)\tLoss 8.5175 (8.5175)\tTop-5 Accuracy 11.066 (11.066)\n",
      "Epoch: [3][2/512]\tBatch Time 73.143 (73.359)\tData Load Time 0.074 (0.070)\tLoss 7.7991 (8.0301)\tTop-5 Accuracy 9.294 (10.455)\n",
      "Epoch: [3][4/512]\tBatch Time 76.666 (74.406)\tData Load Time 0.086 (0.076)\tLoss 8.2269 (8.0241)\tTop-5 Accuracy 7.951 (10.269)\n",
      "Epoch: [3][6/512]\tBatch Time 76.603 (75.094)\tData Load Time 0.086 (0.082)\tLoss 7.9066 (8.0204)\tTop-5 Accuracy 9.315 (9.841)\n",
      "Epoch: [3][8/512]\tBatch Time 74.156 (74.837)\tData Load Time 0.080 (0.083)\tLoss 8.4815 (8.0350)\tTop-5 Accuracy 8.306 (10.058)\n",
      "Epoch: [3][10/512]\tBatch Time 71.865 (74.325)\tData Load Time 0.077 (0.084)\tLoss 8.3492 (8.0520)\tTop-5 Accuracy 9.322 (10.021)\n",
      "Epoch: [3][12/512]\tBatch Time 74.523 (74.241)\tData Load Time 0.086 (0.084)\tLoss 8.1167 (8.0730)\tTop-5 Accuracy 10.487 (10.050)\n",
      "Epoch: [3][14/512]\tBatch Time 73.053 (74.214)\tData Load Time 0.083 (0.084)\tLoss 8.0252 (8.0772)\tTop-5 Accuracy 11.034 (10.104)\n",
      "\n",
      "Epochs since last improvement: 2\n",
      "\n",
      "Validation: [0/128]\tBatch Time 68.724 (68.724)\tLoss 8.9011 (8.9011)\tTop-5 Accuracy 8.425 (8.425)\t\n",
      "Validation: [2/128]\tBatch Time 69.158 (68.790)\tLoss 8.9047 (8.8155)\tTop-5 Accuracy 11.742 (10.508)\t\n",
      "\n",
      " * LOSS - 8.821, TOP-5 ACCURACY - 10.348\n",
      "Epoch: 3 Top5-Validation 10.347752332485157\n",
      "epoch nr 4\n",
      "Epoch: [4][0/512]\tBatch Time 74.479 (74.479)\tData Load Time 0.062 (0.062)\tLoss 8.4175 (8.4175)\tTop-5 Accuracy 11.475 (11.475)\n",
      "Epoch: [4][2/512]\tBatch Time 74.772 (74.952)\tData Load Time 0.075 (0.075)\tLoss 7.6565 (7.9647)\tTop-5 Accuracy 12.268 (10.701)\n",
      "Epoch: [4][4/512]\tBatch Time 75.119 (75.012)\tData Load Time 0.074 (0.075)\tLoss 8.1629 (7.9549)\tTop-5 Accuracy 9.786 (10.407)\n",
      "Epoch: [4][6/512]\tBatch Time 73.937 (74.738)\tData Load Time 0.083 (0.077)\tLoss 7.7885 (7.9260)\tTop-5 Accuracy 8.767 (10.075)\n",
      "Epoch: [4][8/512]\tBatch Time 73.485 (74.372)\tData Load Time 0.079 (0.078)\tLoss 8.3901 (7.9346)\tTop-5 Accuracy 7.973 (10.131)\n",
      "Epoch: [4][10/512]\tBatch Time 75.061 (74.382)\tData Load Time 0.079 (0.081)\tLoss 8.1784 (7.9416)\tTop-5 Accuracy 10.169 (10.359)\n",
      "Epoch: [4][12/512]\tBatch Time 75.067 (74.495)\tData Load Time 0.079 (0.081)\tLoss 7.9502 (7.9573)\tTop-5 Accuracy 9.363 (10.234)\n",
      "Epoch: [4][14/512]\tBatch Time 75.991 (74.702)\tData Load Time 0.073 (0.080)\tLoss 8.0176 (7.9677)\tTop-5 Accuracy 11.724 (10.284)\n",
      "\n",
      "Epochs since last improvement: 3\n",
      "\n",
      "Validation: [0/128]\tBatch Time 67.777 (67.777)\tLoss 8.8750 (8.8750)\tTop-5 Accuracy 8.059 (8.059)\t\n",
      "Validation: [2/128]\tBatch Time 68.036 (68.130)\tLoss 8.9218 (8.8160)\tTop-5 Accuracy 10.606 (9.563)\t\n",
      "\n",
      " * LOSS - 8.825, TOP-5 ACCURACY - 9.839\n",
      "Epoch: 4 Top5-Validation 9.838846480067854\n",
      "epoch nr 5\n",
      "Epoch: [5][0/512]\tBatch Time 74.009 (74.009)\tData Load Time 0.050 (0.050)\tLoss 8.3523 (8.3523)\tTop-5 Accuracy 10.656 (10.656)\n",
      "Epoch: [5][2/512]\tBatch Time 75.514 (75.024)\tData Load Time 0.091 (0.075)\tLoss 7.5668 (7.9074)\tTop-5 Accuracy 12.268 (10.824)\n"
     ]
    },
    {
     "ename": "KeyboardInterrupt",
     "evalue": "",
     "output_type": "error",
     "traceback": [
      "\u001b[1;31m---------------------------------------------------------------------------\u001b[0m",
      "\u001b[1;31mKeyboardInterrupt\u001b[0m                         Traceback (most recent call last)",
      "\u001b[1;32m~\\AppData\\Local\\Temp/ipykernel_13576/3338779371.py\u001b[0m in \u001b[0;36m<module>\u001b[1;34m\u001b[0m\n\u001b[0;32m     10\u001b[0m \u001b[1;33m\u001b[0m\u001b[0m\n\u001b[0;32m     11\u001b[0m     \u001b[1;31m# One epoch's training\u001b[0m\u001b[1;33m\u001b[0m\u001b[1;33m\u001b[0m\u001b[0m\n\u001b[1;32m---> 12\u001b[1;33m     top5_avg = train(train_loader=train_loader,\n\u001b[0m\u001b[0;32m     13\u001b[0m             \u001b[0mencoder\u001b[0m\u001b[1;33m=\u001b[0m\u001b[0mencoder\u001b[0m\u001b[1;33m,\u001b[0m\u001b[1;33m\u001b[0m\u001b[1;33m\u001b[0m\u001b[0m\n\u001b[0;32m     14\u001b[0m             \u001b[0mdecoder\u001b[0m\u001b[1;33m=\u001b[0m\u001b[0mdecoder\u001b[0m\u001b[1;33m,\u001b[0m\u001b[1;33m\u001b[0m\u001b[1;33m\u001b[0m\u001b[0m\n",
      "\u001b[1;32m~\\AppData\\Local\\Temp/ipykernel_13576/3835483902.py\u001b[0m in \u001b[0;36mtrain\u001b[1;34m(train_loader, encoder, decoder, criterion, encoder_optimizer, decoder_optimizer, epoch, verbose)\u001b[0m\n\u001b[0;32m     35\u001b[0m \u001b[1;33m\u001b[0m\u001b[0m\n\u001b[0;32m     36\u001b[0m         \u001b[1;31m# Forward prop.\u001b[0m\u001b[1;33m\u001b[0m\u001b[1;33m\u001b[0m\u001b[0m\n\u001b[1;32m---> 37\u001b[1;33m         \u001b[0mimgs\u001b[0m \u001b[1;33m=\u001b[0m \u001b[0mencoder\u001b[0m\u001b[1;33m(\u001b[0m\u001b[0mimgs\u001b[0m\u001b[1;33m)\u001b[0m\u001b[1;33m\u001b[0m\u001b[1;33m\u001b[0m\u001b[0m\n\u001b[0m\u001b[0;32m     38\u001b[0m         \u001b[0mscores\u001b[0m\u001b[1;33m,\u001b[0m \u001b[0mcaps_sorted\u001b[0m\u001b[1;33m,\u001b[0m \u001b[0mdecode_lengths\u001b[0m\u001b[1;33m,\u001b[0m \u001b[0malphas\u001b[0m\u001b[1;33m,\u001b[0m \u001b[0msort_ind\u001b[0m \u001b[1;33m=\u001b[0m \u001b[0mdecoder\u001b[0m\u001b[1;33m(\u001b[0m\u001b[0mimgs\u001b[0m\u001b[1;33m,\u001b[0m \u001b[0mcaps\u001b[0m\u001b[1;33m,\u001b[0m \u001b[0mcaplens\u001b[0m\u001b[1;33m)\u001b[0m\u001b[1;33m\u001b[0m\u001b[1;33m\u001b[0m\u001b[0m\n\u001b[0;32m     39\u001b[0m \u001b[1;33m\u001b[0m\u001b[0m\n",
      "\u001b[1;32mc:\\Users\\46763\\anaconda3\\lib\\site-packages\\torch\\nn\\modules\\module.py\u001b[0m in \u001b[0;36m_call_impl\u001b[1;34m(self, *input, **kwargs)\u001b[0m\n\u001b[0;32m   1192\u001b[0m         if not (self._backward_hooks or self._forward_hooks or self._forward_pre_hooks or _global_backward_hooks\n\u001b[0;32m   1193\u001b[0m                 or _global_forward_hooks or _global_forward_pre_hooks):\n\u001b[1;32m-> 1194\u001b[1;33m             \u001b[1;32mreturn\u001b[0m \u001b[0mforward_call\u001b[0m\u001b[1;33m(\u001b[0m\u001b[1;33m*\u001b[0m\u001b[0minput\u001b[0m\u001b[1;33m,\u001b[0m \u001b[1;33m**\u001b[0m\u001b[0mkwargs\u001b[0m\u001b[1;33m)\u001b[0m\u001b[1;33m\u001b[0m\u001b[1;33m\u001b[0m\u001b[0m\n\u001b[0m\u001b[0;32m   1195\u001b[0m         \u001b[1;31m# Do not call functions when jit is used\u001b[0m\u001b[1;33m\u001b[0m\u001b[1;33m\u001b[0m\u001b[0m\n\u001b[0;32m   1196\u001b[0m         \u001b[0mfull_backward_hooks\u001b[0m\u001b[1;33m,\u001b[0m \u001b[0mnon_full_backward_hooks\u001b[0m \u001b[1;33m=\u001b[0m \u001b[1;33m[\u001b[0m\u001b[1;33m]\u001b[0m\u001b[1;33m,\u001b[0m \u001b[1;33m[\u001b[0m\u001b[1;33m]\u001b[0m\u001b[1;33m\u001b[0m\u001b[1;33m\u001b[0m\u001b[0m\n",
      "\u001b[1;32mc:\\Users\\46763\\nlp_proj\\DiffusionDBPromptCapture\\Encoder.py\u001b[0m in \u001b[0;36mforward\u001b[1;34m(self, images)\u001b[0m\n\u001b[0;32m     29\u001b[0m         \u001b[1;33m:\u001b[0m\u001b[1;32mreturn\u001b[0m\u001b[1;33m:\u001b[0m \u001b[0mencoded\u001b[0m \u001b[0mimages\u001b[0m\u001b[1;33m\u001b[0m\u001b[1;33m\u001b[0m\u001b[0m\n\u001b[0;32m     30\u001b[0m         \"\"\"\n\u001b[1;32m---> 31\u001b[1;33m         \u001b[0mout\u001b[0m \u001b[1;33m=\u001b[0m \u001b[0mself\u001b[0m\u001b[1;33m.\u001b[0m\u001b[0mresnet\u001b[0m\u001b[1;33m(\u001b[0m\u001b[0mimages\u001b[0m\u001b[1;33m)\u001b[0m  \u001b[1;31m# (batch_size, 2048, image_size/32, image_size/32)\u001b[0m\u001b[1;33m\u001b[0m\u001b[1;33m\u001b[0m\u001b[0m\n\u001b[0m\u001b[0;32m     32\u001b[0m         \u001b[0mout\u001b[0m \u001b[1;33m=\u001b[0m \u001b[0mself\u001b[0m\u001b[1;33m.\u001b[0m\u001b[0madaptive_pool\u001b[0m\u001b[1;33m(\u001b[0m\u001b[0mout\u001b[0m\u001b[1;33m)\u001b[0m  \u001b[1;31m# (batch_size, 2048, encoded_image_size, encoded_image_size)\u001b[0m\u001b[1;33m\u001b[0m\u001b[1;33m\u001b[0m\u001b[0m\n\u001b[0;32m     33\u001b[0m         \u001b[0mout\u001b[0m \u001b[1;33m=\u001b[0m \u001b[0mout\u001b[0m\u001b[1;33m.\u001b[0m\u001b[0mpermute\u001b[0m\u001b[1;33m(\u001b[0m\u001b[1;36m0\u001b[0m\u001b[1;33m,\u001b[0m \u001b[1;36m2\u001b[0m\u001b[1;33m,\u001b[0m \u001b[1;36m3\u001b[0m\u001b[1;33m,\u001b[0m \u001b[1;36m1\u001b[0m\u001b[1;33m)\u001b[0m  \u001b[1;31m# (batch_size, encoded_image_size, encoded_image_size, 2048)\u001b[0m\u001b[1;33m\u001b[0m\u001b[1;33m\u001b[0m\u001b[0m\n",
      "\u001b[1;32mc:\\Users\\46763\\anaconda3\\lib\\site-packages\\torch\\nn\\modules\\module.py\u001b[0m in \u001b[0;36m_call_impl\u001b[1;34m(self, *input, **kwargs)\u001b[0m\n\u001b[0;32m   1192\u001b[0m         if not (self._backward_hooks or self._forward_hooks or self._forward_pre_hooks or _global_backward_hooks\n\u001b[0;32m   1193\u001b[0m                 or _global_forward_hooks or _global_forward_pre_hooks):\n\u001b[1;32m-> 1194\u001b[1;33m             \u001b[1;32mreturn\u001b[0m \u001b[0mforward_call\u001b[0m\u001b[1;33m(\u001b[0m\u001b[1;33m*\u001b[0m\u001b[0minput\u001b[0m\u001b[1;33m,\u001b[0m \u001b[1;33m**\u001b[0m\u001b[0mkwargs\u001b[0m\u001b[1;33m)\u001b[0m\u001b[1;33m\u001b[0m\u001b[1;33m\u001b[0m\u001b[0m\n\u001b[0m\u001b[0;32m   1195\u001b[0m         \u001b[1;31m# Do not call functions when jit is used\u001b[0m\u001b[1;33m\u001b[0m\u001b[1;33m\u001b[0m\u001b[0m\n\u001b[0;32m   1196\u001b[0m         \u001b[0mfull_backward_hooks\u001b[0m\u001b[1;33m,\u001b[0m \u001b[0mnon_full_backward_hooks\u001b[0m \u001b[1;33m=\u001b[0m \u001b[1;33m[\u001b[0m\u001b[1;33m]\u001b[0m\u001b[1;33m,\u001b[0m \u001b[1;33m[\u001b[0m\u001b[1;33m]\u001b[0m\u001b[1;33m\u001b[0m\u001b[1;33m\u001b[0m\u001b[0m\n",
      "\u001b[1;32mc:\\Users\\46763\\anaconda3\\lib\\site-packages\\torch\\nn\\modules\\container.py\u001b[0m in \u001b[0;36mforward\u001b[1;34m(self, input)\u001b[0m\n\u001b[0;32m    202\u001b[0m     \u001b[1;32mdef\u001b[0m \u001b[0mforward\u001b[0m\u001b[1;33m(\u001b[0m\u001b[0mself\u001b[0m\u001b[1;33m,\u001b[0m \u001b[0minput\u001b[0m\u001b[1;33m)\u001b[0m\u001b[1;33m:\u001b[0m\u001b[1;33m\u001b[0m\u001b[1;33m\u001b[0m\u001b[0m\n\u001b[0;32m    203\u001b[0m         \u001b[1;32mfor\u001b[0m \u001b[0mmodule\u001b[0m \u001b[1;32min\u001b[0m \u001b[0mself\u001b[0m\u001b[1;33m:\u001b[0m\u001b[1;33m\u001b[0m\u001b[1;33m\u001b[0m\u001b[0m\n\u001b[1;32m--> 204\u001b[1;33m             \u001b[0minput\u001b[0m \u001b[1;33m=\u001b[0m \u001b[0mmodule\u001b[0m\u001b[1;33m(\u001b[0m\u001b[0minput\u001b[0m\u001b[1;33m)\u001b[0m\u001b[1;33m\u001b[0m\u001b[1;33m\u001b[0m\u001b[0m\n\u001b[0m\u001b[0;32m    205\u001b[0m         \u001b[1;32mreturn\u001b[0m \u001b[0minput\u001b[0m\u001b[1;33m\u001b[0m\u001b[1;33m\u001b[0m\u001b[0m\n\u001b[0;32m    206\u001b[0m \u001b[1;33m\u001b[0m\u001b[0m\n",
      "\u001b[1;32mc:\\Users\\46763\\anaconda3\\lib\\site-packages\\torch\\nn\\modules\\module.py\u001b[0m in \u001b[0;36m_call_impl\u001b[1;34m(self, *input, **kwargs)\u001b[0m\n\u001b[0;32m   1192\u001b[0m         if not (self._backward_hooks or self._forward_hooks or self._forward_pre_hooks or _global_backward_hooks\n\u001b[0;32m   1193\u001b[0m                 or _global_forward_hooks or _global_forward_pre_hooks):\n\u001b[1;32m-> 1194\u001b[1;33m             \u001b[1;32mreturn\u001b[0m \u001b[0mforward_call\u001b[0m\u001b[1;33m(\u001b[0m\u001b[1;33m*\u001b[0m\u001b[0minput\u001b[0m\u001b[1;33m,\u001b[0m \u001b[1;33m**\u001b[0m\u001b[0mkwargs\u001b[0m\u001b[1;33m)\u001b[0m\u001b[1;33m\u001b[0m\u001b[1;33m\u001b[0m\u001b[0m\n\u001b[0m\u001b[0;32m   1195\u001b[0m         \u001b[1;31m# Do not call functions when jit is used\u001b[0m\u001b[1;33m\u001b[0m\u001b[1;33m\u001b[0m\u001b[0m\n\u001b[0;32m   1196\u001b[0m         \u001b[0mfull_backward_hooks\u001b[0m\u001b[1;33m,\u001b[0m \u001b[0mnon_full_backward_hooks\u001b[0m \u001b[1;33m=\u001b[0m \u001b[1;33m[\u001b[0m\u001b[1;33m]\u001b[0m\u001b[1;33m,\u001b[0m \u001b[1;33m[\u001b[0m\u001b[1;33m]\u001b[0m\u001b[1;33m\u001b[0m\u001b[1;33m\u001b[0m\u001b[0m\n",
      "\u001b[1;32mc:\\Users\\46763\\anaconda3\\lib\\site-packages\\torch\\nn\\modules\\container.py\u001b[0m in \u001b[0;36mforward\u001b[1;34m(self, input)\u001b[0m\n\u001b[0;32m    202\u001b[0m     \u001b[1;32mdef\u001b[0m \u001b[0mforward\u001b[0m\u001b[1;33m(\u001b[0m\u001b[0mself\u001b[0m\u001b[1;33m,\u001b[0m \u001b[0minput\u001b[0m\u001b[1;33m)\u001b[0m\u001b[1;33m:\u001b[0m\u001b[1;33m\u001b[0m\u001b[1;33m\u001b[0m\u001b[0m\n\u001b[0;32m    203\u001b[0m         \u001b[1;32mfor\u001b[0m \u001b[0mmodule\u001b[0m \u001b[1;32min\u001b[0m \u001b[0mself\u001b[0m\u001b[1;33m:\u001b[0m\u001b[1;33m\u001b[0m\u001b[1;33m\u001b[0m\u001b[0m\n\u001b[1;32m--> 204\u001b[1;33m             \u001b[0minput\u001b[0m \u001b[1;33m=\u001b[0m \u001b[0mmodule\u001b[0m\u001b[1;33m(\u001b[0m\u001b[0minput\u001b[0m\u001b[1;33m)\u001b[0m\u001b[1;33m\u001b[0m\u001b[1;33m\u001b[0m\u001b[0m\n\u001b[0m\u001b[0;32m    205\u001b[0m         \u001b[1;32mreturn\u001b[0m \u001b[0minput\u001b[0m\u001b[1;33m\u001b[0m\u001b[1;33m\u001b[0m\u001b[0m\n\u001b[0;32m    206\u001b[0m \u001b[1;33m\u001b[0m\u001b[0m\n",
      "\u001b[1;32mc:\\Users\\46763\\anaconda3\\lib\\site-packages\\torch\\nn\\modules\\module.py\u001b[0m in \u001b[0;36m_call_impl\u001b[1;34m(self, *input, **kwargs)\u001b[0m\n\u001b[0;32m   1192\u001b[0m         if not (self._backward_hooks or self._forward_hooks or self._forward_pre_hooks or _global_backward_hooks\n\u001b[0;32m   1193\u001b[0m                 or _global_forward_hooks or _global_forward_pre_hooks):\n\u001b[1;32m-> 1194\u001b[1;33m             \u001b[1;32mreturn\u001b[0m \u001b[0mforward_call\u001b[0m\u001b[1;33m(\u001b[0m\u001b[1;33m*\u001b[0m\u001b[0minput\u001b[0m\u001b[1;33m,\u001b[0m \u001b[1;33m**\u001b[0m\u001b[0mkwargs\u001b[0m\u001b[1;33m)\u001b[0m\u001b[1;33m\u001b[0m\u001b[1;33m\u001b[0m\u001b[0m\n\u001b[0m\u001b[0;32m   1195\u001b[0m         \u001b[1;31m# Do not call functions when jit is used\u001b[0m\u001b[1;33m\u001b[0m\u001b[1;33m\u001b[0m\u001b[0m\n\u001b[0;32m   1196\u001b[0m         \u001b[0mfull_backward_hooks\u001b[0m\u001b[1;33m,\u001b[0m \u001b[0mnon_full_backward_hooks\u001b[0m \u001b[1;33m=\u001b[0m \u001b[1;33m[\u001b[0m\u001b[1;33m]\u001b[0m\u001b[1;33m,\u001b[0m \u001b[1;33m[\u001b[0m\u001b[1;33m]\u001b[0m\u001b[1;33m\u001b[0m\u001b[1;33m\u001b[0m\u001b[0m\n",
      "\u001b[1;32mc:\\Users\\46763\\anaconda3\\lib\\site-packages\\torchvision\\models\\resnet.py\u001b[0m in \u001b[0;36mforward\u001b[1;34m(self, x)\u001b[0m\n\u001b[0;32m    144\u001b[0m         \u001b[0midentity\u001b[0m \u001b[1;33m=\u001b[0m \u001b[0mx\u001b[0m\u001b[1;33m\u001b[0m\u001b[1;33m\u001b[0m\u001b[0m\n\u001b[0;32m    145\u001b[0m \u001b[1;33m\u001b[0m\u001b[0m\n\u001b[1;32m--> 146\u001b[1;33m         \u001b[0mout\u001b[0m \u001b[1;33m=\u001b[0m \u001b[0mself\u001b[0m\u001b[1;33m.\u001b[0m\u001b[0mconv1\u001b[0m\u001b[1;33m(\u001b[0m\u001b[0mx\u001b[0m\u001b[1;33m)\u001b[0m\u001b[1;33m\u001b[0m\u001b[1;33m\u001b[0m\u001b[0m\n\u001b[0m\u001b[0;32m    147\u001b[0m         \u001b[0mout\u001b[0m \u001b[1;33m=\u001b[0m \u001b[0mself\u001b[0m\u001b[1;33m.\u001b[0m\u001b[0mbn1\u001b[0m\u001b[1;33m(\u001b[0m\u001b[0mout\u001b[0m\u001b[1;33m)\u001b[0m\u001b[1;33m\u001b[0m\u001b[1;33m\u001b[0m\u001b[0m\n\u001b[0;32m    148\u001b[0m         \u001b[0mout\u001b[0m \u001b[1;33m=\u001b[0m \u001b[0mself\u001b[0m\u001b[1;33m.\u001b[0m\u001b[0mrelu\u001b[0m\u001b[1;33m(\u001b[0m\u001b[0mout\u001b[0m\u001b[1;33m)\u001b[0m\u001b[1;33m\u001b[0m\u001b[1;33m\u001b[0m\u001b[0m\n",
      "\u001b[1;32mc:\\Users\\46763\\anaconda3\\lib\\site-packages\\torch\\nn\\modules\\module.py\u001b[0m in \u001b[0;36m_call_impl\u001b[1;34m(self, *input, **kwargs)\u001b[0m\n\u001b[0;32m   1192\u001b[0m         if not (self._backward_hooks or self._forward_hooks or self._forward_pre_hooks or _global_backward_hooks\n\u001b[0;32m   1193\u001b[0m                 or _global_forward_hooks or _global_forward_pre_hooks):\n\u001b[1;32m-> 1194\u001b[1;33m             \u001b[1;32mreturn\u001b[0m \u001b[0mforward_call\u001b[0m\u001b[1;33m(\u001b[0m\u001b[1;33m*\u001b[0m\u001b[0minput\u001b[0m\u001b[1;33m,\u001b[0m \u001b[1;33m**\u001b[0m\u001b[0mkwargs\u001b[0m\u001b[1;33m)\u001b[0m\u001b[1;33m\u001b[0m\u001b[1;33m\u001b[0m\u001b[0m\n\u001b[0m\u001b[0;32m   1195\u001b[0m         \u001b[1;31m# Do not call functions when jit is used\u001b[0m\u001b[1;33m\u001b[0m\u001b[1;33m\u001b[0m\u001b[0m\n\u001b[0;32m   1196\u001b[0m         \u001b[0mfull_backward_hooks\u001b[0m\u001b[1;33m,\u001b[0m \u001b[0mnon_full_backward_hooks\u001b[0m \u001b[1;33m=\u001b[0m \u001b[1;33m[\u001b[0m\u001b[1;33m]\u001b[0m\u001b[1;33m,\u001b[0m \u001b[1;33m[\u001b[0m\u001b[1;33m]\u001b[0m\u001b[1;33m\u001b[0m\u001b[1;33m\u001b[0m\u001b[0m\n",
      "\u001b[1;32mc:\\Users\\46763\\anaconda3\\lib\\site-packages\\torch\\nn\\modules\\conv.py\u001b[0m in \u001b[0;36mforward\u001b[1;34m(self, input)\u001b[0m\n\u001b[0;32m    461\u001b[0m \u001b[1;33m\u001b[0m\u001b[0m\n\u001b[0;32m    462\u001b[0m     \u001b[1;32mdef\u001b[0m \u001b[0mforward\u001b[0m\u001b[1;33m(\u001b[0m\u001b[0mself\u001b[0m\u001b[1;33m,\u001b[0m \u001b[0minput\u001b[0m\u001b[1;33m:\u001b[0m \u001b[0mTensor\u001b[0m\u001b[1;33m)\u001b[0m \u001b[1;33m->\u001b[0m \u001b[0mTensor\u001b[0m\u001b[1;33m:\u001b[0m\u001b[1;33m\u001b[0m\u001b[1;33m\u001b[0m\u001b[0m\n\u001b[1;32m--> 463\u001b[1;33m         \u001b[1;32mreturn\u001b[0m \u001b[0mself\u001b[0m\u001b[1;33m.\u001b[0m\u001b[0m_conv_forward\u001b[0m\u001b[1;33m(\u001b[0m\u001b[0minput\u001b[0m\u001b[1;33m,\u001b[0m \u001b[0mself\u001b[0m\u001b[1;33m.\u001b[0m\u001b[0mweight\u001b[0m\u001b[1;33m,\u001b[0m \u001b[0mself\u001b[0m\u001b[1;33m.\u001b[0m\u001b[0mbias\u001b[0m\u001b[1;33m)\u001b[0m\u001b[1;33m\u001b[0m\u001b[1;33m\u001b[0m\u001b[0m\n\u001b[0m\u001b[0;32m    464\u001b[0m \u001b[1;33m\u001b[0m\u001b[0m\n\u001b[0;32m    465\u001b[0m \u001b[1;32mclass\u001b[0m \u001b[0mConv3d\u001b[0m\u001b[1;33m(\u001b[0m\u001b[0m_ConvNd\u001b[0m\u001b[1;33m)\u001b[0m\u001b[1;33m:\u001b[0m\u001b[1;33m\u001b[0m\u001b[1;33m\u001b[0m\u001b[0m\n",
      "\u001b[1;32mc:\\Users\\46763\\anaconda3\\lib\\site-packages\\torch\\nn\\modules\\conv.py\u001b[0m in \u001b[0;36m_conv_forward\u001b[1;34m(self, input, weight, bias)\u001b[0m\n\u001b[0;32m    457\u001b[0m                             \u001b[0mweight\u001b[0m\u001b[1;33m,\u001b[0m \u001b[0mbias\u001b[0m\u001b[1;33m,\u001b[0m \u001b[0mself\u001b[0m\u001b[1;33m.\u001b[0m\u001b[0mstride\u001b[0m\u001b[1;33m,\u001b[0m\u001b[1;33m\u001b[0m\u001b[1;33m\u001b[0m\u001b[0m\n\u001b[0;32m    458\u001b[0m                             _pair(0), self.dilation, self.groups)\n\u001b[1;32m--> 459\u001b[1;33m         return F.conv2d(input, weight, bias, self.stride,\n\u001b[0m\u001b[0;32m    460\u001b[0m                         self.padding, self.dilation, self.groups)\n\u001b[0;32m    461\u001b[0m \u001b[1;33m\u001b[0m\u001b[0m\n",
      "\u001b[1;31mKeyboardInterrupt\u001b[0m: "
     ]
    }
   ],
   "source": [
    "def adjust_learning_rate(optimizer, factor):\n",
    "    for param_group in optimizer.param_groups:\n",
    "        param_group['lr'] *= factor\n",
    "\n",
    "for epoch in range(Parameters.start_epoch, Parameters.epochs):\n",
    "    # Decay learning rate if there is no improvement for 8 consecutive epochs, and terminate training after 20\n",
    "    print(\"epoch nr\", epoch)\n",
    "    if Parameters.epochs_since_improvement == 20:\n",
    "        break\n",
    "    if Parameters.epochs_since_improvement > 0 and Parameters.epochs_since_improvement % 8 == 0:\n",
    "        adjust_learning_rate(decoder_optimizer, 0.8)\n",
    "        if Parameters.fine_tune_encoder:\n",
    "            adjust_learning_rate(encoder_optimizer, 0.8)\n",
    "\n",
    "    # One epoch's training\n",
    "    top5_avg = train(train_loader=train_loader,\n",
    "            encoder=encoder,\n",
    "            decoder=decoder,\n",
    "            criterion=criterion,\n",
    "            encoder_optimizer=encoder_optimizer,\n",
    "            decoder_optimizer=decoder_optimizer,\n",
    "            epoch=epoch)\n",
    "    \n",
    "    load_history.append(top5_avg)\n",
    "    \n",
    "    # Check if there was an improvement\n",
    "    is_best = top5_avg > Parameters.top_5\n",
    "    Parameters.top_5 = max(top5_avg, Parameters.top_5)\n",
    "    if not is_best:\n",
    "        Parameters.epochs_since_improvement += 1\n",
    "        print(\"\\nEpochs since last improvement: %d\\n\" % (Parameters.epochs_since_improvement,))\n",
    "    else:\n",
    "        Parameters.epochs_since_improvement = 0\n",
    "\n",
    "    # Save checkpoint\n",
    "    save_checkpoint(\"resnet50_no-unk_15_no_stop\", epoch, Parameters.epochs_since_improvement, encoder, decoder, encoder_optimizer,\n",
    "                    decoder_optimizer, top5_avg, load_history, is_best)\n",
    "    \n",
    "    # One epoch's validation\n",
    "    recent_top5 = validate(val_loader=val_loader,\n",
    "                            encoder=encoder,\n",
    "                            decoder=decoder,\n",
    "                            criterion=criterion)\n",
    "    print(\"Epoch:\", epoch, \"Top5-Validation\", recent_top5)\n"
   ]
  }
 ],
 "metadata": {
  "kernelspec": {
   "display_name": "base",
   "language": "python",
   "name": "python3"
  },
  "language_info": {
   "codemirror_mode": {
    "name": "ipython",
    "version": 3
   },
   "file_extension": ".py",
   "mimetype": "text/x-python",
   "name": "python",
   "nbconvert_exporter": "python",
   "pygments_lexer": "ipython3",
   "version": "3.9.12"
  },
  "orig_nbformat": 4,
  "vscode": {
   "interpreter": {
    "hash": "6d0a43702d9ae9cad8360dad8945dcc9ae90de74b7e60c48cd24e2fb810fd968"
   }
  }
 },
 "nbformat": 4,
 "nbformat_minor": 2
}
