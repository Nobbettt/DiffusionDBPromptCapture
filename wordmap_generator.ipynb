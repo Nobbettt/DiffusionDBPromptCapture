{
 "cells": [
  {
   "cell_type": "code",
   "execution_count": 1,
   "metadata": {},
   "outputs": [],
   "source": [
    "from datasets import load_dataset\n",
    "import json\n",
    "import nltk\n",
    "from nltk.corpus import stopwords\n",
    "import re"
   ]
  },
  {
   "cell_type": "code",
   "execution_count": 2,
   "metadata": {},
   "outputs": [
    {
     "name": "stderr",
     "output_type": "stream",
     "text": [
      "Found cached dataset diffusiondb (C:/Users/46763/.cache/huggingface/datasets/poloclub___diffusiondb/2m_first_5k/0.9.1/547894e3a57aa647ead68c9faf148324098f47f2bc1ab6705d670721de9d89d1)\n",
      "100%|██████████| 1/1 [00:00<00:00,  7.25it/s]\n"
     ]
    }
   ],
   "source": [
    "dataset = load_dataset('poloclub/diffusiondb', '2m_first_5k')"
   ]
  },
  {
   "cell_type": "code",
   "execution_count": 3,
   "metadata": {},
   "outputs": [],
   "source": [
    "num_rows = dataset['train'].num_rows"
   ]
  },
  {
   "cell_type": "code",
   "execution_count": 1,
   "metadata": {},
   "outputs": [],
   "source": [
    "use_stop_words = False\n",
    "min_word_length = 2\n",
    "min_word_freq = 5"
   ]
  },
  {
   "cell_type": "code",
   "execution_count": null,
   "metadata": {},
   "outputs": [],
   "source": [
    "if use_stop_words: stop_words = stop_words = set(stopwords.words('english'))"
   ]
  },
  {
   "cell_type": "code",
   "execution_count": 5,
   "metadata": {},
   "outputs": [],
   "source": [
    "custom_word_map = {}\n",
    "for i in range(num_rows):\n",
    "    prompt = dataset['train']['prompt'][i]\n",
    "    clean_prompt = re.sub('[^A-Za-z]+',' ', prompt)\n",
    "    clean_prompt_arr = clean_prompt.split(' ')\n",
    "    for word in clean_prompt_arr:\n",
    "        if len(word) >= min_word_length and word not in stop_words:\n",
    "            if word in custom_word_map.keys():\n",
    "                custom_word_map[word] += 1\n",
    "            else: \n",
    "                custom_word_map[word] = 1"
   ]
  },
  {
   "cell_type": "code",
   "execution_count": 6,
   "metadata": {},
   "outputs": [],
   "source": [
    "with open('WORDMAP_coco_5_cap_per_img_5_min_word_freq.json') as json_file:\n",
    "    existing_word_map = json.load(json_file)"
   ]
  },
  {
   "cell_type": "code",
   "execution_count": 7,
   "metadata": {},
   "outputs": [],
   "source": [
    "clean_existing_word_map = {}\n",
    "for key, value in existing_word_map.items():\n",
    "    clean_word = re.sub('[^A-Za-z]+',' ', key)\n",
    "    if len(clean_word) >= min_word_length and clean_word not in stop_words:\n",
    "        clean_existing_word_map[clean_word] = value"
   ]
  },
  {
   "cell_type": "code",
   "execution_count": 8,
   "metadata": {},
   "outputs": [],
   "source": [
    "special_tokens = {\n",
    "    \"<pad>\": 0,\n",
    "}\n",
    "unk_token = {\n",
    "    \"<start>\": 1,\n",
    "    \"<end>\": 2,\n",
    "    \"<unk>\": 3,\n",
    "}"
   ]
  },
  {
   "cell_type": "code",
   "execution_count": 9,
   "metadata": {},
   "outputs": [],
   "source": [
    "final_word_map = special_tokens | clean_existing_word_map | custom_word_map | unk_token"
   ]
  },
  {
   "cell_type": "code",
   "execution_count": 11,
   "metadata": {},
   "outputs": [],
   "source": [
    "for i, (key, value) in enumerate(final_word_map.items()):\n",
    "    final_word_map[key] = i"
   ]
  },
  {
   "cell_type": "code",
   "execution_count": 12,
   "metadata": {},
   "outputs": [
    {
     "name": "stdout",
     "output_type": "stream",
     "text": [
      "Final length of word map: 13925\n"
     ]
    }
   ],
   "source": [
    "print(\"Final length of word map:\", len(final_word_map))"
   ]
  },
  {
   "cell_type": "code",
   "execution_count": 13,
   "metadata": {},
   "outputs": [],
   "source": [
    "with open('word_map_nostop.json', 'w') as fp:\n",
    "    json.dump(final_word_map, fp)"
   ]
  }
 ],
 "metadata": {
  "kernelspec": {
   "display_name": "base",
   "language": "python",
   "name": "python3"
  },
  "language_info": {
   "codemirror_mode": {
    "name": "ipython",
    "version": 3
   },
   "file_extension": ".py",
   "mimetype": "text/x-python",
   "name": "python",
   "nbconvert_exporter": "python",
   "pygments_lexer": "ipython3",
   "version": "3.9.12 (main, Apr  4 2022, 05:22:27) [MSC v.1916 64 bit (AMD64)]"
  },
  "orig_nbformat": 4,
  "vscode": {
   "interpreter": {
    "hash": "6d0a43702d9ae9cad8360dad8945dcc9ae90de74b7e60c48cd24e2fb810fd968"
   }
  }
 },
 "nbformat": 4,
 "nbformat_minor": 2
}
